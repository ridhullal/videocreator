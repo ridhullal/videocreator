{
 "cells": [
  {
   "cell_type": "markdown",
   "id": "f651834f",
   "metadata": {},
   "source": [
    "### Audio extraction from Audio"
   ]
  },
  {
   "cell_type": "code",
   "execution_count": null,
   "id": "bf928fce",
   "metadata": {},
   "outputs": [],
   "source": [
    "import ffmpeg\n",
    "\n",
    "def extract_audio(video_path, output_audio_path):\n",
    "    try:\n",
    "        # Run the FFmpeg command to extract audio\n",
    "        ffmpeg.input(video_path).output(output_audio_path).run()\n",
    "        print(f\"Audio successfully extracted to: {output_audio_path}\")\n",
    "    except ffmpeg.Error as e:\n",
    "        print(f\"An error occurred: {e}\")\n",
    "\n",
    "\n",
    "\n",
    "\n"
   ]
  },
  {
   "cell_type": "code",
   "execution_count": null,
   "id": "c18d20e3",
   "metadata": {},
   "outputs": [],
   "source": [
    "# Example usage\n",
    "video_path = \"input/test.mp4\"  # Replace with your video file path\n",
    "output_audio_path = \"output/output_audio.mp3\"  # Replace with your desired output file path\n",
    "extract_audio(video_path, output_audio_path)\n"
   ]
  },
  {
   "cell_type": "markdown",
   "id": "63331e8f",
   "metadata": {},
   "source": [
    "### Download images related to query"
   ]
  },
  {
   "cell_type": "code",
   "execution_count": null,
   "id": "c99d58c2",
   "metadata": {},
   "outputs": [],
   "source": [
    "from bing_image_downloader import downloader\n",
    "\n",
    "search_term = \"barroz movie\"\n",
    "limit = 5\n",
    "\n",
    "downloader.download(search_term, limit=limit, output_dir='dataset',\n",
    "                    adult_filter_off=True, force_replace=False, timeout=60)"
   ]
  },
  {
   "cell_type": "code",
   "execution_count": null,
   "id": "3f961fbb",
   "metadata": {},
   "outputs": [],
   "source": [
    "# function to download images\n",
    "def image_downloader(query, limit):\n",
    "    search_term = query\n",
    "    limit = limit\n",
    "\n",
    "    downloader.download(search_term, limit=limit, output_dir='dataset',\n",
    "                    adult_filter_off=True, force_replace=False, timeout=60)\n",
    "    return \"success\""
   ]
  },
  {
   "cell_type": "code",
   "execution_count": null,
   "id": "c6679435",
   "metadata": {},
   "outputs": [],
   "source": [
    "print(image_downloader(\"Barroz malayalam movie\",10))"
   ]
  },
  {
   "cell_type": "markdown",
   "id": "b13a3983",
   "metadata": {},
   "source": [
    "### Image resize "
   ]
  },
  {
   "cell_type": "code",
   "execution_count": 19,
   "id": "4dcd3287",
   "metadata": {},
   "outputs": [
    {
     "name": "stderr",
     "output_type": "stream",
     "text": [
      "/var/folders/s3/5cs0dkhs0rjcqwll7h7vn88w0000gn/T/ipykernel_82958/1431982564.py:24: DeprecationWarning: ANTIALIAS is deprecated and will be removed in Pillow 10 (2023-07-01). Use Resampling.LANCZOS instead.\n",
      "  img.thumbnail((target_width, target_height), Image.ANTIALIAS)\n"
     ]
    },
    {
     "name": "stdout",
     "output_type": "stream",
     "text": [
      "Resized and saved: resized_images/Image_10.jpg\n",
      "Resized and saved: resized_images/Image_8.jpg\n",
      "Resized and saved: resized_images/Image_9.jpg\n",
      "Resized and saved: resized_images/Image_2.jpg\n",
      "Resized and saved: resized_images/Image_3.jpg\n",
      "Resized and saved: resized_images/Image_1.jpg\n",
      "Resized and saved: resized_images/Image_4.jpg\n",
      "Resized and saved: resized_images/Image_5.jpg\n",
      "Resized and saved: resized_images/Image_7.jpg\n",
      "Resized and saved: resized_images/Image_6.jpg\n"
     ]
    }
   ],
   "source": [
    "# resize and padding solution\n",
    "from PIL import Image, ImageOps\n",
    "import os\n",
    "\n",
    "def resize_images_to_vertical(directory, output_directory, target_width=1080, target_height=1920):\n",
    "    \"\"\"\n",
    "    Resize all images in a directory to a specified height and width suitable for vertical mobile orientation.\n",
    "    Adds padding to maintain aspect ratio.\n",
    "\n",
    "    :param directory: Path to the directory containing images.\n",
    "    :param output_directory: Path to save the resized images.\n",
    "    :param target_width: Target width of the output images (default is 1080).\n",
    "    :param target_height: Target height of the output images (default is 1920).\n",
    "    \"\"\"\n",
    "    if not os.path.exists(output_directory):\n",
    "        os.makedirs(output_directory)\n",
    "\n",
    "    for file_name in os.listdir(directory):\n",
    "        if file_name.lower().endswith((\".png\", \".jpg\", \".jpeg\")):\n",
    "            input_path = os.path.join(directory, file_name)\n",
    "            output_path = os.path.join(output_directory, file_name)\n",
    "\n",
    "            with Image.open(input_path) as img:\n",
    "                # Resize while maintaining aspect ratio\n",
    "                img.thumbnail((target_width, target_height), Image.ANTIALIAS)\n",
    "\n",
    "                # Add padding to make the image fit exactly\n",
    "                delta_width = target_width - img.width\n",
    "                delta_height = target_height - img.height\n",
    "                padding = (\n",
    "                    delta_width // 2,\n",
    "                    delta_height // 2,\n",
    "                    delta_width - (delta_width // 2),\n",
    "                    delta_height - (delta_height // 2),\n",
    "                )\n",
    "                new_img = ImageOps.expand(img, padding, fill=\"black\")  # Add black padding\n",
    "\n",
    "                # Save the resized image\n",
    "                new_img.save(output_path)\n",
    "                print(f\"Resized and saved: {output_path}\")\n",
    "\n",
    "# Usage\n",
    "input_directory = \"dataset/Barroz malayalam movie\"  # Folder containing your images\n",
    "output_directory = \"resized_images\"  # Folder to save resized images\n",
    "resize_images_to_vertical(input_directory, output_directory)\n"
   ]
  },
  {
   "cell_type": "code",
   "execution_count": 20,
   "id": "ebb30911",
   "metadata": {},
   "outputs": [
    {
     "name": "stderr",
     "output_type": "stream",
     "text": [
      "/var/folders/s3/5cs0dkhs0rjcqwll7h7vn88w0000gn/T/ipykernel_82958/3054863756.py:32: DeprecationWarning: ANTIALIAS is deprecated and will be removed in Pillow 10 (2023-07-01). Use Resampling.LANCZOS instead.\n",
      "  img = img.resize((new_width, target_height), Image.ANTIALIAS)\n"
     ]
    },
    {
     "name": "stdout",
     "output_type": "stream",
     "text": [
      "Resized and cropped: resized_and_cropped_images/Image_10.jpg\n",
      "Resized and cropped: resized_and_cropped_images/Image_8.jpg\n",
      "Resized and cropped: resized_and_cropped_images/Image_9.jpg\n",
      "Resized and cropped: resized_and_cropped_images/Image_2.jpg\n",
      "Resized and cropped: resized_and_cropped_images/Image_3.jpg\n",
      "Resized and cropped: resized_and_cropped_images/Image_1.jpg\n",
      "Resized and cropped: resized_and_cropped_images/Image_4.jpg\n",
      "Resized and cropped: resized_and_cropped_images/Image_5.jpg\n",
      "Resized and cropped: resized_and_cropped_images/Image_7.jpg\n",
      "Resized and cropped: resized_and_cropped_images/Image_6.jpg\n"
     ]
    }
   ],
   "source": [
    "# resize and crop solution\n",
    "from PIL import Image\n",
    "import os\n",
    "\n",
    "def resize_and_crop_images(directory, output_directory, target_width=1080, target_height=1920):\n",
    "    \"\"\"\n",
    "    Resize and crop all images in a directory to fit the specified width and height\n",
    "    suitable for vertical mobile orientation.\n",
    "\n",
    "    :param directory: Path to the directory containing images.\n",
    "    :param output_directory: Path to save the resized and cropped images.\n",
    "    :param target_width: Target width of the output images (default is 1080).\n",
    "    :param target_height: Target height of the output images (default is 1920).\n",
    "    \"\"\"\n",
    "    if not os.path.exists(output_directory):\n",
    "        os.makedirs(output_directory)\n",
    "\n",
    "    for file_name in os.listdir(directory):\n",
    "        if file_name.lower().endswith((\".png\", \".jpg\", \".jpeg\")):\n",
    "            input_path = os.path.join(directory, file_name)\n",
    "            output_path = os.path.join(output_directory, file_name)\n",
    "\n",
    "            with Image.open(input_path) as img:\n",
    "                # Calculate the target aspect ratio\n",
    "                target_aspect = target_width / target_height\n",
    "                img_aspect = img.width / img.height\n",
    "\n",
    "                # Determine whether to crop width or height\n",
    "                if img_aspect > target_aspect:\n",
    "                    # Image is wider than the target, crop width\n",
    "                    new_width = int(target_height * img_aspect)\n",
    "                    img = img.resize((new_width, target_height), Image.ANTIALIAS)\n",
    "                    left = (new_width - target_width) // 2\n",
    "                    img = img.crop((left, 0, left + target_width, target_height))\n",
    "                else:\n",
    "                    # Image is taller than the target, crop height\n",
    "                    new_height = int(target_width / img_aspect)\n",
    "                    img = img.resize((target_width, new_height), Image.ANTIALIAS)\n",
    "                    top = (new_height - target_height) // 2\n",
    "                    img = img.crop((0, top, target_width, top + target_height))\n",
    "\n",
    "                # Save the resized and cropped image\n",
    "                img.save(output_path)\n",
    "                print(f\"Resized and cropped: {output_path}\")\n",
    "\n",
    "# Usage\n",
    "input_directory = \"dataset/Barroz malayalam movie\"  # Folder containing your images\n",
    "output_directory = \"resized_and_cropped_images\"  # Folder to save resized and cropped images\n",
    "resize_and_crop_images(input_directory, output_directory)\n"
   ]
  },
  {
   "cell_type": "markdown",
   "id": "ee5e6024",
   "metadata": {},
   "source": [
    "### video Generation from Images"
   ]
  },
  {
   "cell_type": "code",
   "execution_count": 22,
   "id": "d210d021",
   "metadata": {},
   "outputs": [
    {
     "name": "stdout",
     "output_type": "stream",
     "text": [
      "Clip duration: 10\n",
      "Clip fps: 1.0\n",
      "Clip duration: 0.3333333333333333\n",
      "Clip fps: 30\n",
      "MoviePy - Building video test_output.mp4.\n",
      "MoviePy - Writing video test_output.mp4\n",
      "\n"
     ]
    },
    {
     "name": "stderr",
     "output_type": "stream",
     "text": [
      "                                                                                  \r"
     ]
    },
    {
     "name": "stdout",
     "output_type": "stream",
     "text": [
      "MoviePy - Done !\n",
      "MoviePy - video ready test_output.mp4\n",
      "MoviePy - Building file result2.gif with imageio.\n"
     ]
    },
    {
     "name": "stderr",
     "output_type": "stream",
     "text": [
      "                                                                                  \r"
     ]
    }
   ],
   "source": [
    "from moviepy import ImageSequenceClip\n",
    "\n",
    "# A clip with a list of images showed for 1 second each\n",
    "myclip = ImageSequenceClip(\n",
    "    \"resized_and_cropped_images\",\n",
    "    durations=[1, 1, 1,1,1,1,1,1,1,1],\n",
    ")\n",
    "# 3 images, 1 seconds each, duration = 3\n",
    "print(\"Clip duration: {}\".format(myclip.duration))\n",
    "# 3 seconds, 3 images, fps is 3/3 = 1\n",
    "print(\"Clip fps: {}\".format(myclip.fps))\n",
    "\n",
    "# This time we will load all images in the dir, and instead of showing theme\n",
    "# for X seconds, we will define FPS\n",
    "myclip2 = ImageSequenceClip(\"resized_and_cropped_images\", fps=30)\n",
    "# fps = 30, so duration = nb images in dir / 30\n",
    "print(\"Clip duration: {}\".format(myclip2.duration))\n",
    "print(\"Clip fps: {}\".format(myclip2.fps))  # fps = 30\n",
    "\n",
    "# the gif will be 30 fps, its duration will depend on the number of\n",
    "# images in dir\n",
    "myclip.write_videofile(\"test_output.mp4\", codec=\"mpeg4\")  # the gif will be 3 sec and 1 fps\n",
    "myclip2.write_gif(\"result2.gif\")"
   ]
  },
  {
   "cell_type": "markdown",
   "id": "52fa6f1b",
   "metadata": {},
   "source": [
    "### adding audio to the clip"
   ]
  },
  {
   "cell_type": "code",
   "execution_count": 23,
   "id": "fffca800",
   "metadata": {},
   "outputs": [],
   "source": [
    "snd = AudioFileClip(\"test_audio.mp3\")\n",
    "snd.close()"
   ]
  },
  {
   "cell_type": "code",
   "execution_count": 25,
   "id": "6e20b7a5",
   "metadata": {},
   "outputs": [
    {
     "ename": "AttributeError",
     "evalue": "'ImageSequenceClip' object has no attribute 'set_audio'",
     "output_type": "error",
     "traceback": [
      "\u001b[0;31m---------------------------------------------------------------------------\u001b[0m",
      "\u001b[0;31mAttributeError\u001b[0m                            Traceback (most recent call last)",
      "\u001b[0;32m/var/folders/s3/5cs0dkhs0rjcqwll7h7vn88w0000gn/T/ipykernel_82958/597502071.py\u001b[0m in \u001b[0;36m<module>\u001b[0;34m\u001b[0m\n\u001b[0;32m----> 1\u001b[0;31m \u001b[0mmyclip\u001b[0m\u001b[0;34m.\u001b[0m\u001b[0mset_audio\u001b[0m\u001b[0;34m(\u001b[0m\u001b[0msnd\u001b[0m\u001b[0;34m)\u001b[0m\u001b[0;34m\u001b[0m\u001b[0;34m\u001b[0m\u001b[0m\n\u001b[0m",
      "\u001b[0;31mAttributeError\u001b[0m: 'ImageSequenceClip' object has no attribute 'set_audio'"
     ]
    }
   ],
   "source": [
    "myclip.set_audio(snd)"
   ]
  },
  {
   "cell_type": "code",
   "execution_count": 2,
   "id": "b1b69914",
   "metadata": {},
   "outputs": [
    {
     "name": "stdout",
     "output_type": "stream",
     "text": [
      "['AI21', 'AlephAlpha', 'AmazonAPIGateway', 'Anthropic', 'Anyscale', 'Arcee', 'Aviary', 'AzureMLOnlineEndpoint', 'AzureOpenAI', 'Banana', 'Baseten', 'Beam', 'Bedrock', 'CTransformers', 'CTranslate2', 'CerebriumAI', 'ChatGLM', 'Clarifai', 'Cohere', 'Databricks', 'DeepInfra', 'DeepSparse', 'EdenAI', 'FakeListLLM', 'Fireworks', 'ForefrontAI', 'GigaChat', 'GPT4All', 'GooglePalm', 'GooseAI', 'GradientLLM', 'HuggingFaceEndpoint', 'HuggingFaceHub', 'HuggingFacePipeline', 'HuggingFaceTextGenInference', 'HumanInputLLM', 'KoboldApiLLM', 'LlamaCpp', 'TextGen', 'ManifestWrapper', 'Minimax', 'MlflowAIGateway', 'Modal', 'MosaicML', 'Nebula', 'NIBittensorLLM', 'NLPCloud', 'Ollama', 'OpenAI', 'OpenAIChat', 'OpenLLM', 'OpenLM', 'PaiEasEndpoint', 'Petals', 'PipelineAI', 'Predibase', 'PredictionGuard', 'PromptLayerOpenAI', 'PromptLayerOpenAIChat', 'OpaquePrompts', 'RWKV', 'Replicate', 'SagemakerEndpoint', 'SelfHostedHuggingFaceLLM', 'SelfHostedPipeline', 'StochasticAI', 'TitanTakeoff', 'TitanTakeoffPro', 'Tongyi', 'VertexAI', 'VertexAIModelGarden', 'VLLM', 'VLLMOpenAI', 'WatsonxLLM', 'Writer', 'OctoAIEndpoint', 'Xinference', 'JavelinAIGateway', 'QianfanLLMEndpoint', 'YandexGPT', 'VolcEngineMaasLLM']\n"
     ]
    }
   ],
   "source": [
    "from langchain.llms import __all__\n",
    "print(__all__)"
   ]
  },
  {
   "cell_type": "code",
   "execution_count": null,
   "id": "ca4ab552",
   "metadata": {},
   "outputs": [],
   "source": []
  }
 ],
 "metadata": {
  "kernelspec": {
   "display_name": "Python 3 (ipykernel)",
   "language": "python",
   "name": "python3"
  },
  "language_info": {
   "codemirror_mode": {
    "name": "ipython",
    "version": 3
   },
   "file_extension": ".py",
   "mimetype": "text/x-python",
   "name": "python",
   "nbconvert_exporter": "python",
   "pygments_lexer": "ipython3",
   "version": "3.9.13"
  },
  "vscode": {
   "interpreter": {
    "hash": "19e57eca1c0366c20435a7e20b8becb22546ffc4e5b9f53d39d1452b2e75c8da"
   }
  }
 },
 "nbformat": 4,
 "nbformat_minor": 5
}
