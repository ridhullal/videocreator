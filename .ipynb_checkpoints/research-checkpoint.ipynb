{
 "cells": [
  {
   "cell_type": "markdown",
   "id": "3b7c4251",
   "metadata": {},
   "source": [
    "### Audio extraction from Audio"
   ]
  },
  {
   "cell_type": "code",
   "execution_count": null,
   "id": "bf928fce",
   "metadata": {},
   "outputs": [],
   "source": [
    "import ffmpeg\n",
    "\n",
    "def extract_audio(video_path, output_audio_path):\n",
    "    try:\n",
    "        # Run the FFmpeg command to extract audio\n",
    "        ffmpeg.input(video_path).output(output_audio_path).run()\n",
    "        print(f\"Audio successfully extracted to: {output_audio_path}\")\n",
    "    except ffmpeg.Error as e:\n",
    "        print(f\"An error occurred: {e}\")\n",
    "\n",
    "\n",
    "\n",
    "\n"
   ]
  },
  {
   "cell_type": "code",
   "execution_count": null,
   "id": "c18d20e3",
   "metadata": {},
   "outputs": [],
   "source": [
    "# Example usage\n",
    "video_path = \"input/test.mp4\"  # Replace with your video file path\n",
    "output_audio_path = \"output/output_audio.mp3\"  # Replace with your desired output file path\n",
    "extract_audio(video_path, output_audio_path)\n"
   ]
  },
  {
   "cell_type": "markdown",
   "id": "ae1d14b7",
   "metadata": {},
   "source": [
    "### Download images related to query"
   ]
  },
  {
   "cell_type": "code",
   "execution_count": null,
   "id": "0a9def4d",
   "metadata": {},
   "outputs": [],
   "source": [
    "from bing_image_downloader import downloader\n",
    "\n",
    "search_term = \"barroz movie\"\n",
    "limit = 5\n",
    "\n",
    "downloader.download(search_term, limit=limit, output_dir='dataset',\n",
    "                    adult_filter_off=True, force_replace=False, timeout=60)"
   ]
  },
  {
   "cell_type": "code",
   "execution_count": null,
   "id": "510ef5e9",
   "metadata": {},
   "outputs": [],
   "source": [
    "# function to download images\n",
    "def image_downloader(query, limit):\n",
    "    search_term = query\n",
    "    limit = limit\n",
    "\n",
    "    downloader.download(search_term, limit=limit, output_dir='dataset',\n",
    "                    adult_filter_off=True, force_replace=False, timeout=60)\n",
    "    return \"success\""
   ]
  },
  {
   "cell_type": "code",
   "execution_count": null,
   "id": "4f4ad5cb",
   "metadata": {},
   "outputs": [],
   "source": [
    "print(image_downloader(\"Barroz malayalam movie\",10))"
   ]
  },
  {
   "cell_type": "markdown",
   "id": "9e881ced",
   "metadata": {},
   "source": [
    "### video Generation from Images"
   ]
  },
  {
   "cell_type": "code",
   "execution_count": 4,
   "id": "77724906",
   "metadata": {},
   "outputs": [],
   "source": [
    "import os\n",
    "os.environ[\"IMAGEIO_FFMPEG_EXE\"] = \"/Users/ridhullal/opt/anaconda3/lib/python3.9/site-packages/ffmpeg\""
   ]
  },
  {
   "cell_type": "code",
   "execution_count": 13,
   "id": "bb342ca8",
   "metadata": {},
   "outputs": [
    {
     "ename": "AttributeError",
     "evalue": "'Resize' object has no attribute 'duration'",
     "output_type": "error",
     "traceback": [
      "\u001b[0;31m---------------------------------------------------------------------------\u001b[0m",
      "\u001b[0;31mAttributeError\u001b[0m                            Traceback (most recent call last)",
      "\u001b[0;32m/var/folders/s3/5cs0dkhs0rjcqwll7h7vn88w0000gn/T/ipykernel_82958/758424934.py\u001b[0m in \u001b[0;36m<module>\u001b[0;34m\u001b[0m\n\u001b[1;32m     39\u001b[0m \u001b[0mimage_folder\u001b[0m \u001b[0;34m=\u001b[0m \u001b[0;34m\"dataset/Barroz malayalam movie\"\u001b[0m  \u001b[0;31m# Folder containing your 10 images\u001b[0m\u001b[0;34m\u001b[0m\u001b[0;34m\u001b[0m\u001b[0m\n\u001b[1;32m     40\u001b[0m \u001b[0moutput_file\u001b[0m \u001b[0;34m=\u001b[0m \u001b[0;34m\"output_video.mp4\"\u001b[0m  \u001b[0;31m# Name of the output video file\u001b[0m\u001b[0;34m\u001b[0m\u001b[0;34m\u001b[0m\u001b[0m\n\u001b[0;32m---> 41\u001b[0;31m \u001b[0mcreate_video_from_images\u001b[0m\u001b[0;34m(\u001b[0m\u001b[0mimage_folder\u001b[0m\u001b[0;34m,\u001b[0m \u001b[0moutput_file\u001b[0m\u001b[0;34m)\u001b[0m\u001b[0;34m\u001b[0m\u001b[0;34m\u001b[0m\u001b[0m\n\u001b[0m",
      "\u001b[0;32m/var/folders/s3/5cs0dkhs0rjcqwll7h7vn88w0000gn/T/ipykernel_82958/758424934.py\u001b[0m in \u001b[0;36mcreate_video_from_images\u001b[0;34m(image_folder, output_file, duration_per_image, resolution)\u001b[0m\n\u001b[1;32m     29\u001b[0m \u001b[0;34m\u001b[0m\u001b[0m\n\u001b[1;32m     30\u001b[0m     \u001b[0;31m# Concatenate all clips\u001b[0m\u001b[0;34m\u001b[0m\u001b[0;34m\u001b[0m\u001b[0m\n\u001b[0;32m---> 31\u001b[0;31m     \u001b[0mvideo\u001b[0m \u001b[0;34m=\u001b[0m \u001b[0mconcatenate_videoclips\u001b[0m\u001b[0;34m(\u001b[0m\u001b[0mclips\u001b[0m\u001b[0;34m,\u001b[0m \u001b[0mmethod\u001b[0m\u001b[0;34m=\u001b[0m\u001b[0;34m\"compose\"\u001b[0m\u001b[0;34m)\u001b[0m\u001b[0;34m\u001b[0m\u001b[0;34m\u001b[0m\u001b[0m\n\u001b[0m\u001b[1;32m     32\u001b[0m \u001b[0;34m\u001b[0m\u001b[0m\n\u001b[1;32m     33\u001b[0m     \u001b[0;31m# Write the video file\u001b[0m\u001b[0;34m\u001b[0m\u001b[0;34m\u001b[0m\u001b[0m\n",
      "\u001b[0;32m~/opt/anaconda3/lib/python3.9/site-packages/moviepy/video/compositing/CompositeVideoClip.py\u001b[0m in \u001b[0;36mconcatenate_videoclips\u001b[0;34m(clips, method, transition, bg_color, is_mask, padding)\u001b[0m\n\u001b[1;32m    273\u001b[0m         \u001b[0mtransition\u001b[0m \u001b[0;34m=\u001b[0m \u001b[0;32mNone\u001b[0m\u001b[0;34m\u001b[0m\u001b[0;34m\u001b[0m\u001b[0m\n\u001b[1;32m    274\u001b[0m \u001b[0;34m\u001b[0m\u001b[0m\n\u001b[0;32m--> 275\u001b[0;31m     \u001b[0mtimings\u001b[0m \u001b[0;34m=\u001b[0m \u001b[0mnp\u001b[0m\u001b[0;34m.\u001b[0m\u001b[0mcumsum\u001b[0m\u001b[0;34m(\u001b[0m\u001b[0;34m[\u001b[0m\u001b[0;36m0\u001b[0m\u001b[0;34m]\u001b[0m \u001b[0;34m+\u001b[0m \u001b[0;34m[\u001b[0m\u001b[0mclip\u001b[0m\u001b[0;34m.\u001b[0m\u001b[0mduration\u001b[0m \u001b[0;32mfor\u001b[0m \u001b[0mclip\u001b[0m \u001b[0;32min\u001b[0m \u001b[0mclips\u001b[0m\u001b[0;34m]\u001b[0m\u001b[0;34m)\u001b[0m\u001b[0;34m\u001b[0m\u001b[0;34m\u001b[0m\u001b[0m\n\u001b[0m\u001b[1;32m    276\u001b[0m \u001b[0;34m\u001b[0m\u001b[0m\n\u001b[1;32m    277\u001b[0m     \u001b[0msizes\u001b[0m \u001b[0;34m=\u001b[0m \u001b[0;34m[\u001b[0m\u001b[0mclip\u001b[0m\u001b[0;34m.\u001b[0m\u001b[0msize\u001b[0m \u001b[0;32mfor\u001b[0m \u001b[0mclip\u001b[0m \u001b[0;32min\u001b[0m \u001b[0mclips\u001b[0m\u001b[0;34m]\u001b[0m\u001b[0;34m\u001b[0m\u001b[0;34m\u001b[0m\u001b[0m\n",
      "\u001b[0;32m~/opt/anaconda3/lib/python3.9/site-packages/moviepy/video/compositing/CompositeVideoClip.py\u001b[0m in \u001b[0;36m<listcomp>\u001b[0;34m(.0)\u001b[0m\n\u001b[1;32m    273\u001b[0m         \u001b[0mtransition\u001b[0m \u001b[0;34m=\u001b[0m \u001b[0;32mNone\u001b[0m\u001b[0;34m\u001b[0m\u001b[0;34m\u001b[0m\u001b[0m\n\u001b[1;32m    274\u001b[0m \u001b[0;34m\u001b[0m\u001b[0m\n\u001b[0;32m--> 275\u001b[0;31m     \u001b[0mtimings\u001b[0m \u001b[0;34m=\u001b[0m \u001b[0mnp\u001b[0m\u001b[0;34m.\u001b[0m\u001b[0mcumsum\u001b[0m\u001b[0;34m(\u001b[0m\u001b[0;34m[\u001b[0m\u001b[0;36m0\u001b[0m\u001b[0;34m]\u001b[0m \u001b[0;34m+\u001b[0m \u001b[0;34m[\u001b[0m\u001b[0mclip\u001b[0m\u001b[0;34m.\u001b[0m\u001b[0mduration\u001b[0m \u001b[0;32mfor\u001b[0m \u001b[0mclip\u001b[0m \u001b[0;32min\u001b[0m \u001b[0mclips\u001b[0m\u001b[0;34m]\u001b[0m\u001b[0;34m)\u001b[0m\u001b[0;34m\u001b[0m\u001b[0;34m\u001b[0m\u001b[0m\n\u001b[0m\u001b[1;32m    276\u001b[0m \u001b[0;34m\u001b[0m\u001b[0m\n\u001b[1;32m    277\u001b[0m     \u001b[0msizes\u001b[0m \u001b[0;34m=\u001b[0m \u001b[0;34m[\u001b[0m\u001b[0mclip\u001b[0m\u001b[0;34m.\u001b[0m\u001b[0msize\u001b[0m \u001b[0;32mfor\u001b[0m \u001b[0mclip\u001b[0m \u001b[0;32min\u001b[0m \u001b[0mclips\u001b[0m\u001b[0;34m]\u001b[0m\u001b[0;34m\u001b[0m\u001b[0;34m\u001b[0m\u001b[0m\n",
      "\u001b[0;31mAttributeError\u001b[0m: 'Resize' object has no attribute 'duration'"
     ]
    }
   ],
   "source": [
    "from moviepy.video.VideoClip import ImageClip\n",
    "from moviepy.video.compositing.CompositeVideoClip import concatenate_videoclips\n",
    "\n",
    "def create_video_from_images(image_folder, output_file, duration_per_image=3, resolution=(1080, 1920)):\n",
    "    \"\"\"\n",
    "    Creates an MP4 video from a set of images.\n",
    "    \n",
    "    :param image_folder: Path to the folder containing images.\n",
    "    :param output_file: Path to save the generated video.\n",
    "    :param duration_per_image: Duration (in seconds) each image will be displayed.\n",
    "    :param resolution: Tuple indicating the video resolution (width, height).\n",
    "    \"\"\"\n",
    "    import os\n",
    "    import moviepy.video.fx as vfx  # Import all video effects like resize\n",
    "\n",
    "    # List of image filenames\n",
    "    image_files = sorted([os.path.join(image_folder, img) for img in os.listdir(image_folder) if img.endswith((\".png\", \".jpg\", \".jpeg\"))])\n",
    "    \n",
    "    if not image_files:\n",
    "        print(\"No images found in the folder!\")\n",
    "        return\n",
    "    \n",
    "    # Create video clips for each image\n",
    "    clips = []\n",
    "    for image_file in image_files:\n",
    "        clip = ImageClip(image_file, duration=duration_per_image)\n",
    "        clip = vfx.Resize(clip, height=resolution[1], width=resolution[0])  # Resize to the desired resolution\n",
    "        clips.append(clip)\n",
    "    \n",
    "    # Concatenate all clips\n",
    "    video = concatenate_videoclips(clips, method=\"compose\")\n",
    "    \n",
    "    # Write the video file\n",
    "    video.write_videofile(output_file, fps=30, codec=\"libx264\", audio=False)\n",
    "    print(f\"Video saved to {output_file}\")\n",
    "\n",
    "\n",
    "# Usage\n",
    "image_folder = \"dataset/Barroz malayalam movie\"  # Folder containing your 10 images\n",
    "output_file = \"output_video.mp4\"  # Name of the output video file\n",
    "create_video_from_images(image_folder, output_file)\n"
   ]
  },
  {
   "cell_type": "code",
   "execution_count": 17,
   "id": "4719b1e3",
   "metadata": {},
   "outputs": [
    {
     "name": "stdout",
     "output_type": "stream",
     "text": [
      "Error processing image Image_1.jpg: 'ImageClip' object has no attribute 'resize'\n"
     ]
    }
   ],
   "source": [
    "from moviepy import *\n",
    "import os\n",
    "\n",
    "def create_reel_video(image_folder, output_filename=\"output.mp4\", duration=30, fps=30):\n",
    "    \"\"\"Creates a short video from images, suitable for Instagram Reels (MoviePy v2.0 compatible).\"\"\"\n",
    "    try:\n",
    "        image_files = [f for f in os.listdir(image_folder) if f.lower().endswith(('.png', '.jpg', '.jpeg', '.gif', '.bmp'))]\n",
    "        image_files.sort()\n",
    "        num_images = len(image_files)\n",
    "\n",
    "        if num_images == 0:\n",
    "            raise ValueError(\"No images found in the specified folder.\")\n",
    "\n",
    "        clips = []\n",
    "        image_duration = duration / num_images\n",
    "\n",
    "        for image_file in image_files:\n",
    "            image_path = os.path.join(image_folder, image_file)\n",
    "            try:\n",
    "                clip = ImageClip(image_path)\n",
    "\n",
    "                # Correct resizing: Assign the result back to 'clip'\n",
    "                h = clip.size[1]\n",
    "                w = clip.size[0]\n",
    "                new_h = 1080\n",
    "                new_w = int(w * (new_h / h))\n",
    "\n",
    "                if new_w > 1920:\n",
    "                    new_w = 1920\n",
    "                    new_h = int(h * (new_w / w))\n",
    "\n",
    "                clip = clip.resize((new_w, new_h)) # The fix is here\n",
    "\n",
    "                clip = clip.set_duration(image_duration)\n",
    "                clips.append(clip)\n",
    "            except Exception as e:\n",
    "                print(f\"Error processing image {image_file}: {e}\")\n",
    "                return\n",
    "\n",
    "        final_clip = concatenate_videoclips(clips, method=\"compose\")\n",
    "        final_clip = final_clip.set_fps(fps)\n",
    "        final_clip.write_videofile(output_filename, codec=\"libx264\", audio=False)\n",
    "        print(f\"Video saved to {output_filename}\")\n",
    "\n",
    "    except Exception as e:\n",
    "        print(f\"An error occurred: {e}\")\n",
    "\n",
    "\n",
    "image_folder = \"dataset/Barroz malayalam movie\"  # Replace with your image folder path\n",
    "create_reel_video(image_folder)"
   ]
  },
  {
   "cell_type": "code",
   "execution_count": null,
   "id": "678b23c5",
   "metadata": {},
   "outputs": [],
   "source": []
  },
  {
   "cell_type": "code",
   "execution_count": null,
   "id": "796562f6",
   "metadata": {},
   "outputs": [],
   "source": []
  }
 ],
 "metadata": {
  "kernelspec": {
   "display_name": "Python 3 (ipykernel)",
   "language": "python",
   "name": "python3"
  },
  "language_info": {
   "codemirror_mode": {
    "name": "ipython",
    "version": 3
   },
   "file_extension": ".py",
   "mimetype": "text/x-python",
   "name": "python",
   "nbconvert_exporter": "python",
   "pygments_lexer": "ipython3",
   "version": "3.9.13"
  }
 },
 "nbformat": 4,
 "nbformat_minor": 5
}
